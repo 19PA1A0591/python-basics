{
  "nbformat": 4,
  "nbformat_minor": 0,
  "metadata": {
    "colab": {
      "name": "Untitled4.ipynb",
      "provenance": [],
      "authorship_tag": "ABX9TyP1Eb7dTzxLQHWWsV3alayw",
      "include_colab_link": true
    },
    "kernelspec": {
      "name": "python3",
      "display_name": "Python 3"
    }
  },
  "cells": [
    {
      "cell_type": "markdown",
      "metadata": {
        "id": "view-in-github",
        "colab_type": "text"
      },
      "source": [
        "<a href=\"https://colab.research.google.com/github/19PA1A0591/python-basics/blob/master/Untitled4.ipynb\" target=\"_parent\"><img src=\"https://colab.research.google.com/assets/colab-badge.svg\" alt=\"Open In Colab\"/></a>"
      ]
    },
    {
      "cell_type": "code",
      "metadata": {
        "id": "cJiwhmjCxgRS",
        "colab_type": "code",
        "colab": {
          "base_uri": "https://localhost:8080/",
          "height": 102
        },
        "outputId": "ac3e6190-2a35-4797-c5ae-765d43434148"
      },
      "source": [
        "a = [] \n",
        "b = list()\n",
        "print(type(a),a,type(b),b)\n",
        "a.append(2)\n",
        "print(a)\n",
        "a.append('d')\n",
        "print(a)\n",
        "a.append([3,4])\n",
        "print(a)\n",
        "print(a[2][1])"
      ],
      "execution_count": 11,
      "outputs": [
        {
          "output_type": "stream",
          "text": [
            "<class 'list'> [] <class 'list'> []\n",
            "[2]\n",
            "[2, 'd']\n",
            "[2, 'd', [3, 4]]\n",
            "4\n"
          ],
          "name": "stdout"
        }
      ]
    }
  ]
}