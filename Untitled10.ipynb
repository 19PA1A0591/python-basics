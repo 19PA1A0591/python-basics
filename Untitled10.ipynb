{
  "nbformat": 4,
  "nbformat_minor": 0,
  "metadata": {
    "colab": {
      "name": "Untitled10.ipynb",
      "provenance": [],
      "authorship_tag": "ABX9TyOe0CZqBu8miaE3vw8WnVDb",
      "include_colab_link": true
    },
    "kernelspec": {
      "name": "python3",
      "display_name": "Python 3"
    }
  },
  "cells": [
    {
      "cell_type": "markdown",
      "metadata": {
        "id": "view-in-github",
        "colab_type": "text"
      },
      "source": [
        "<a href=\"https://colab.research.google.com/github/19PA1A0591/python-basics/blob/master/Untitled10.ipynb\" target=\"_parent\"><img src=\"https://colab.research.google.com/assets/colab-badge.svg\" alt=\"Open In Colab\"/></a>"
      ]
    },
    {
      "cell_type": "code",
      "metadata": {
        "id": "d112rvZU36J7",
        "colab_type": "code",
        "colab": {}
      },
      "source": [
        "import pandas as pd\n",
        "import numpy as np\n",
        "import matplotlib.pyplot as plt"
      ],
      "execution_count": 0,
      "outputs": []
    },
    {
      "cell_type": "markdown",
      "metadata": {
        "id": "mZjOJf75PNPs",
        "colab_type": "text"
      },
      "source": [
        "# *description*\n"
      ]
    },
    {
      "cell_type": "markdown",
      "metadata": {
        "id": "RaNb1xocS-6l",
        "colab_type": "text"
      },
      "source": [
        "First of all,we have to import the data from the source and upload the link in the colab repository.\n",
        "and then load the data in pandas dataframe.and do analysis.Now read the dataset.\n",
        "        find the missing values in the dataset and fill the nan values with any values.\n",
        "        Do the preliminary analysis.and then do the operations on datatypes.Draw 2 or 3 graphs on like scatterplot,histogram,etc.,"
      ]
    },
    {
      "cell_type": "markdown",
      "metadata": {
        "id": "4jfmsF3KLn9I",
        "colab_type": "text"
      },
      "source": [
        "# To read a data set"
      ]
    },
    {
      "cell_type": "code",
      "metadata": {
        "id": "ryG23JVgsKUt",
        "colab_type": "code",
        "colab": {
          "base_uri": "https://localhost:8080/",
          "height": 635
        },
        "outputId": "01c7e330-415b-4eeb-b6fb-600d38568d1b"
      },
      "source": [
        "x=pd.read_csv(\"DatafinitiElectronicsProductsPricingData.csv\")\n",
        "x"
      ],
      "execution_count": 3,
      "outputs": [
        {
          "output_type": "execute_result",
          "data": {
            "text/html": [
              "<div>\n",
              "<style scoped>\n",
              "    .dataframe tbody tr th:only-of-type {\n",
              "        vertical-align: middle;\n",
              "    }\n",
              "\n",
              "    .dataframe tbody tr th {\n",
              "        vertical-align: top;\n",
              "    }\n",
              "\n",
              "    .dataframe thead th {\n",
              "        text-align: right;\n",
              "    }\n",
              "</style>\n",
              "<table border=\"1\" class=\"dataframe\">\n",
              "  <thead>\n",
              "    <tr style=\"text-align: right;\">\n",
              "      <th></th>\n",
              "      <th>id</th>\n",
              "      <th>prices.amountMax</th>\n",
              "      <th>prices.amountMin</th>\n",
              "      <th>prices.availability</th>\n",
              "      <th>prices.condition</th>\n",
              "      <th>prices.currency</th>\n",
              "      <th>prices.isSale</th>\n",
              "      <th>prices.merchant</th>\n",
              "      <th>brand</th>\n",
              "      <th>dateUpdated</th>\n",
              "      <th>Unnamed: 10</th>\n",
              "    </tr>\n",
              "  </thead>\n",
              "  <tbody>\n",
              "    <tr>\n",
              "      <th>0</th>\n",
              "      <td>AVphzgbJLJeJML43fA0o</td>\n",
              "      <td>104.99</td>\n",
              "      <td>104.99</td>\n",
              "      <td>Yes</td>\n",
              "      <td>New</td>\n",
              "      <td>USD</td>\n",
              "      <td>False</td>\n",
              "      <td>Bestbuy.com</td>\n",
              "      <td>Sanus</td>\n",
              "      <td>2018-05-12T18:59:48Z</td>\n",
              "      <td>32.8 pounds</td>\n",
              "    </tr>\n",
              "    <tr>\n",
              "      <th>1</th>\n",
              "      <td>AVpgMuGwLJeJML43KY_c</td>\n",
              "      <td>69.00</td>\n",
              "      <td>64.99</td>\n",
              "      <td>In Stock</td>\n",
              "      <td>New</td>\n",
              "      <td>USD</td>\n",
              "      <td>True</td>\n",
              "      <td>Walmart.com</td>\n",
              "      <td>Boytone</td>\n",
              "      <td>2018-06-13T19:39:02Z</td>\n",
              "      <td>14 pounds</td>\n",
              "    </tr>\n",
              "    <tr>\n",
              "      <th>2</th>\n",
              "      <td>AVpgMuGwLJeJML43KY_c</td>\n",
              "      <td>69.00</td>\n",
              "      <td>69.00</td>\n",
              "      <td>In Stock</td>\n",
              "      <td>New</td>\n",
              "      <td>USD</td>\n",
              "      <td>False</td>\n",
              "      <td>Walmart.com</td>\n",
              "      <td>Boytone</td>\n",
              "      <td>2018-06-13T19:39:02Z</td>\n",
              "      <td>14 pounds</td>\n",
              "    </tr>\n",
              "    <tr>\n",
              "      <th>3</th>\n",
              "      <td>AVpgMuGwLJeJML43KY_c</td>\n",
              "      <td>69.99</td>\n",
              "      <td>69.99</td>\n",
              "      <td>Yes</td>\n",
              "      <td>New</td>\n",
              "      <td>USD</td>\n",
              "      <td>False</td>\n",
              "      <td>Bestbuy.com</td>\n",
              "      <td>Boytone</td>\n",
              "      <td>2018-06-13T19:39:02Z</td>\n",
              "      <td>14 pounds</td>\n",
              "    </tr>\n",
              "    <tr>\n",
              "      <th>4</th>\n",
              "      <td>AVpgMuGwLJeJML43KY_c</td>\n",
              "      <td>66.99</td>\n",
              "      <td>66.99</td>\n",
              "      <td>Yes</td>\n",
              "      <td>New</td>\n",
              "      <td>USD</td>\n",
              "      <td>False</td>\n",
              "      <td>Bestbuy.com</td>\n",
              "      <td>Boytone</td>\n",
              "      <td>2018-06-13T19:39:02Z</td>\n",
              "      <td>14 pounds</td>\n",
              "    </tr>\n",
              "    <tr>\n",
              "      <th>...</th>\n",
              "      <td>...</td>\n",
              "      <td>...</td>\n",
              "      <td>...</td>\n",
              "      <td>...</td>\n",
              "      <td>...</td>\n",
              "      <td>...</td>\n",
              "      <td>...</td>\n",
              "      <td>...</td>\n",
              "      <td>...</td>\n",
              "      <td>...</td>\n",
              "      <td>...</td>\n",
              "    </tr>\n",
              "    <tr>\n",
              "      <th>14587</th>\n",
              "      <td>AVpgibRDLJeJML43PTZX</td>\n",
              "      <td>65.99</td>\n",
              "      <td>65.99</td>\n",
              "      <td>NaN</td>\n",
              "      <td>NaN</td>\n",
              "      <td>USD</td>\n",
              "      <td>True</td>\n",
              "      <td>NaN</td>\n",
              "      <td>naxa</td>\n",
              "      <td>2018-06-13T19:43:55Z</td>\n",
              "      <td>4.1 pounds</td>\n",
              "    </tr>\n",
              "    <tr>\n",
              "      <th>14588</th>\n",
              "      <td>AVpgibRDLJeJML43PTZX</td>\n",
              "      <td>58.99</td>\n",
              "      <td>58.99</td>\n",
              "      <td>Yes</td>\n",
              "      <td>New</td>\n",
              "      <td>USD</td>\n",
              "      <td>False</td>\n",
              "      <td>Bestbuy.com</td>\n",
              "      <td>naxa</td>\n",
              "      <td>2018-06-13T19:43:55Z</td>\n",
              "      <td>4.1 pounds</td>\n",
              "    </tr>\n",
              "    <tr>\n",
              "      <th>14589</th>\n",
              "      <td>AVpgibRDLJeJML43PTZX</td>\n",
              "      <td>58.49</td>\n",
              "      <td>58.49</td>\n",
              "      <td>In Stock</td>\n",
              "      <td>New</td>\n",
              "      <td>USD</td>\n",
              "      <td>False</td>\n",
              "      <td>Walmart.com</td>\n",
              "      <td>naxa</td>\n",
              "      <td>2018-06-13T19:43:55Z</td>\n",
              "      <td>4.1 pounds</td>\n",
              "    </tr>\n",
              "    <tr>\n",
              "      <th>14590</th>\n",
              "      <td>AVpgibRDLJeJML43PTZX</td>\n",
              "      <td>77.98</td>\n",
              "      <td>77.98</td>\n",
              "      <td>NaN</td>\n",
              "      <td>NaN</td>\n",
              "      <td>USD</td>\n",
              "      <td>True</td>\n",
              "      <td>NaN</td>\n",
              "      <td>naxa</td>\n",
              "      <td>2018-06-13T19:43:55Z</td>\n",
              "      <td>4.1 pounds</td>\n",
              "    </tr>\n",
              "    <tr>\n",
              "      <th>14591</th>\n",
              "      <td>AVpgibRDLJeJML43PTZX</td>\n",
              "      <td>71.95</td>\n",
              "      <td>71.95</td>\n",
              "      <td>NaN</td>\n",
              "      <td>new</td>\n",
              "      <td>USD</td>\n",
              "      <td>False</td>\n",
              "      <td>Beach Audio Inc - Walmart.com</td>\n",
              "      <td>naxa</td>\n",
              "      <td>2018-06-13T19:43:55Z</td>\n",
              "      <td>4.1 pounds</td>\n",
              "    </tr>\n",
              "  </tbody>\n",
              "</table>\n",
              "<p>14592 rows × 11 columns</p>\n",
              "</div>"
            ],
            "text/plain": [
              "                         id  ...  Unnamed: 10\n",
              "0      AVphzgbJLJeJML43fA0o  ...  32.8 pounds\n",
              "1      AVpgMuGwLJeJML43KY_c  ...    14 pounds\n",
              "2      AVpgMuGwLJeJML43KY_c  ...    14 pounds\n",
              "3      AVpgMuGwLJeJML43KY_c  ...    14 pounds\n",
              "4      AVpgMuGwLJeJML43KY_c  ...    14 pounds\n",
              "...                     ...  ...          ...\n",
              "14587  AVpgibRDLJeJML43PTZX  ...   4.1 pounds\n",
              "14588  AVpgibRDLJeJML43PTZX  ...   4.1 pounds\n",
              "14589  AVpgibRDLJeJML43PTZX  ...   4.1 pounds\n",
              "14590  AVpgibRDLJeJML43PTZX  ...   4.1 pounds\n",
              "14591  AVpgibRDLJeJML43PTZX  ...   4.1 pounds\n",
              "\n",
              "[14592 rows x 11 columns]"
            ]
          },
          "metadata": {
            "tags": []
          },
          "execution_count": 3
        }
      ]
    },
    {
      "cell_type": "code",
      "metadata": {
        "id": "FruIhufeSoPN",
        "colab_type": "code",
        "colab": {
          "base_uri": "https://localhost:8080/",
          "height": 86
        },
        "outputId": "74c567bc-e9d0-42ad-d9a0-8c79a085a4d0"
      },
      "source": [
        "x.columns"
      ],
      "execution_count": 47,
      "outputs": [
        {
          "output_type": "execute_result",
          "data": {
            "text/plain": [
              "Index(['id', 'prices.amountMax', 'prices.amountMin', 'prices.availability',\n",
              "       'prices.condition', 'prices.currency', 'prices.isSale',\n",
              "       'prices.merchant', 'brand', 'dateUpdated', 'Unnamed: 10'],\n",
              "      dtype='object')"
            ]
          },
          "metadata": {
            "tags": []
          },
          "execution_count": 47
        }
      ]
    },
    {
      "cell_type": "markdown",
      "metadata": {
        "id": "VKA_qHUIWNRC",
        "colab_type": "text"
      },
      "source": [
        "\n",
        "*id=identification number\n",
        "*prices.amountMax=maximum price of the product\n",
        "*prices.amountMin=minimum price of the product\n",
        "*prices.availability=the availability of the product details\n",
        "*prices.currency=currency of that country\n",
        "*prices.isSale=the products sales or not with that price\n",
        "*prices.merchant=name of the marchant\n",
        "*brand=brand of the product\n",
        "*dateUpdated=product updated date\n",
        "*unnamed=weight of the product\n"
      ]
    },
    {
      "cell_type": "markdown",
      "metadata": {
        "id": "peJ87LevMA0C",
        "colab_type": "text"
      },
      "source": [
        "# To know which data type it is"
      ]
    },
    {
      "cell_type": "code",
      "metadata": {
        "id": "rwpLB2D7wmV4",
        "colab_type": "code",
        "colab": {
          "base_uri": "https://localhost:8080/",
          "height": 225
        },
        "outputId": "9d5895cd-1f7a-4768-e930-9d78c1402f94"
      },
      "source": [
        "x.dtypes"
      ],
      "execution_count": 4,
      "outputs": [
        {
          "output_type": "execute_result",
          "data": {
            "text/plain": [
              "id                      object\n",
              "prices.amountMax       float64\n",
              "prices.amountMin       float64\n",
              "prices.availability     object\n",
              "prices.condition        object\n",
              "prices.currency         object\n",
              "prices.isSale             bool\n",
              "prices.merchant         object\n",
              "brand                   object\n",
              "dateUpdated             object\n",
              "Unnamed: 10             object\n",
              "dtype: object"
            ]
          },
          "metadata": {
            "tags": []
          },
          "execution_count": 4
        }
      ]
    },
    {
      "cell_type": "markdown",
      "metadata": {
        "id": "YPGxuVT2MRb7",
        "colab_type": "text"
      },
      "source": [
        "# To change the data type of subcategory"
      ]
    },
    {
      "cell_type": "code",
      "metadata": {
        "id": "jj20J79Iyp9w",
        "colab_type": "code",
        "colab": {}
      },
      "source": [
        "x[\"brand\"]=x.brand.astype(\"category\")"
      ],
      "execution_count": 0,
      "outputs": []
    },
    {
      "cell_type": "code",
      "metadata": {
        "id": "bthsQcJy8fnI",
        "colab_type": "code",
        "colab": {
          "base_uri": "https://localhost:8080/",
          "height": 225
        },
        "outputId": "85adb511-8bab-4108-aa47-3cd243ac85f4"
      },
      "source": [
        "x.dtypes"
      ],
      "execution_count": 15,
      "outputs": [
        {
          "output_type": "execute_result",
          "data": {
            "text/plain": [
              "id                       object\n",
              "prices.amountMax        float64\n",
              "prices.amountMin        float64\n",
              "prices.availability      object\n",
              "prices.condition         object\n",
              "prices.currency          object\n",
              "prices.isSale              bool\n",
              "prices.merchant          object\n",
              "brand                  category\n",
              "dateUpdated              object\n",
              "Unnamed: 10              object\n",
              "dtype: object"
            ]
          },
          "metadata": {
            "tags": []
          },
          "execution_count": 15
        }
      ]
    },
    {
      "cell_type": "markdown",
      "metadata": {
        "id": "W20DA3MIMfhN",
        "colab_type": "text"
      },
      "source": [
        "# Shape of data set"
      ]
    },
    {
      "cell_type": "code",
      "metadata": {
        "id": "pZyixQMY8onE",
        "colab_type": "code",
        "colab": {
          "base_uri": "https://localhost:8080/",
          "height": 34
        },
        "outputId": "49f3e1fb-0000-4594-e6ec-f18dbaa09e46"
      },
      "source": [
        "x.shape"
      ],
      "execution_count": 16,
      "outputs": [
        {
          "output_type": "execute_result",
          "data": {
            "text/plain": [
              "(14592, 11)"
            ]
          },
          "metadata": {
            "tags": []
          },
          "execution_count": 16
        }
      ]
    },
    {
      "cell_type": "code",
      "metadata": {
        "id": "yazEEbL5-LHq",
        "colab_type": "code",
        "colab": {
          "base_uri": "https://localhost:8080/",
          "height": 295
        },
        "outputId": "b8c43b8d-87a8-42b4-e179-a5e47475621e"
      },
      "source": [
        "x.info()"
      ],
      "execution_count": 23,
      "outputs": [
        {
          "output_type": "stream",
          "text": [
            "<class 'pandas.core.frame.DataFrame'>\n",
            "RangeIndex: 14592 entries, 0 to 14591\n",
            "Data columns (total 11 columns):\n",
            "id                     14592 non-null object\n",
            "prices.amountMax       14592 non-null float64\n",
            "prices.amountMin       14592 non-null float64\n",
            "prices.availability    12667 non-null object\n",
            "prices.condition       13189 non-null object\n",
            "prices.currency        14592 non-null object\n",
            "prices.isSale          14592 non-null bool\n",
            "prices.merchant        13820 non-null object\n",
            "brand                  14592 non-null category\n",
            "dateUpdated            14592 non-null object\n",
            "Unnamed: 10            14592 non-null object\n",
            "dtypes: bool(1), category(1), float64(2), object(7)\n",
            "memory usage: 1.1+ MB\n"
          ],
          "name": "stdout"
        }
      ]
    },
    {
      "cell_type": "markdown",
      "metadata": {
        "id": "OlhqhNadMwBE",
        "colab_type": "text"
      },
      "source": [
        "# Central tendency"
      ]
    },
    {
      "cell_type": "code",
      "metadata": {
        "id": "JUFOLZKY_Nu7",
        "colab_type": "code",
        "colab": {
          "base_uri": "https://localhost:8080/",
          "height": 300
        },
        "outputId": "d3724aa9-17b9-46fa-d9ea-5ec9c741d2c4"
      },
      "source": [
        "x.describe()"
      ],
      "execution_count": 22,
      "outputs": [
        {
          "output_type": "execute_result",
          "data": {
            "text/html": [
              "<div>\n",
              "<style scoped>\n",
              "    .dataframe tbody tr th:only-of-type {\n",
              "        vertical-align: middle;\n",
              "    }\n",
              "\n",
              "    .dataframe tbody tr th {\n",
              "        vertical-align: top;\n",
              "    }\n",
              "\n",
              "    .dataframe thead th {\n",
              "        text-align: right;\n",
              "    }\n",
              "</style>\n",
              "<table border=\"1\" class=\"dataframe\">\n",
              "  <thead>\n",
              "    <tr style=\"text-align: right;\">\n",
              "      <th></th>\n",
              "      <th>prices.amountMax</th>\n",
              "      <th>prices.amountMin</th>\n",
              "    </tr>\n",
              "  </thead>\n",
              "  <tbody>\n",
              "    <tr>\n",
              "      <th>count</th>\n",
              "      <td>14592.000000</td>\n",
              "      <td>14592.000000</td>\n",
              "    </tr>\n",
              "    <tr>\n",
              "      <th>mean</th>\n",
              "      <td>509.578897</td>\n",
              "      <td>487.323215</td>\n",
              "    </tr>\n",
              "    <tr>\n",
              "      <th>std</th>\n",
              "      <td>1008.512738</td>\n",
              "      <td>967.083200</td>\n",
              "    </tr>\n",
              "    <tr>\n",
              "      <th>min</th>\n",
              "      <td>1.000000</td>\n",
              "      <td>1.000000</td>\n",
              "    </tr>\n",
              "    <tr>\n",
              "      <th>25%</th>\n",
              "      <td>79.990000</td>\n",
              "      <td>79.950000</td>\n",
              "    </tr>\n",
              "    <tr>\n",
              "      <th>50%</th>\n",
              "      <td>195.000000</td>\n",
              "      <td>188.035000</td>\n",
              "    </tr>\n",
              "    <tr>\n",
              "      <th>75%</th>\n",
              "      <td>499.990000</td>\n",
              "      <td>499.000000</td>\n",
              "    </tr>\n",
              "    <tr>\n",
              "      <th>max</th>\n",
              "      <td>26871.000000</td>\n",
              "      <td>26871.000000</td>\n",
              "    </tr>\n",
              "  </tbody>\n",
              "</table>\n",
              "</div>"
            ],
            "text/plain": [
              "       prices.amountMax  prices.amountMin\n",
              "count      14592.000000      14592.000000\n",
              "mean         509.578897        487.323215\n",
              "std         1008.512738        967.083200\n",
              "min            1.000000          1.000000\n",
              "25%           79.990000         79.950000\n",
              "50%          195.000000        188.035000\n",
              "75%          499.990000        499.000000\n",
              "max        26871.000000      26871.000000"
            ]
          },
          "metadata": {
            "tags": []
          },
          "execution_count": 22
        }
      ]
    },
    {
      "cell_type": "markdown",
      "metadata": {
        "id": "BCHUr24DM9OW",
        "colab_type": "text"
      },
      "source": [
        "# Variability"
      ]
    },
    {
      "cell_type": "code",
      "metadata": {
        "id": "DgHcChZD_SL2",
        "colab_type": "code",
        "colab": {
          "base_uri": "https://localhost:8080/",
          "height": 86
        },
        "outputId": "e8c2c764-5d57-4b06-a736-7add821a170d"
      },
      "source": [
        "x.var()"
      ],
      "execution_count": 21,
      "outputs": [
        {
          "output_type": "execute_result",
          "data": {
            "text/plain": [
              "prices.amountMax    1.017098e+06\n",
              "prices.amountMin    9.352499e+05\n",
              "prices.isSale       1.824096e-01\n",
              "dtype: float64"
            ]
          },
          "metadata": {
            "tags": []
          },
          "execution_count": 21
        }
      ]
    },
    {
      "cell_type": "markdown",
      "metadata": {
        "id": "HiwaVcGgNJhH",
        "colab_type": "text"
      },
      "source": [
        "# missing values"
      ]
    },
    {
      "cell_type": "code",
      "metadata": {
        "id": "hrJkG6jWAeZV",
        "colab_type": "code",
        "colab": {
          "base_uri": "https://localhost:8080/",
          "height": 461
        },
        "outputId": "9dec3814-debe-464c-d1a1-ac5447c43704"
      },
      "source": [
        "x.isna()"
      ],
      "execution_count": 24,
      "outputs": [
        {
          "output_type": "execute_result",
          "data": {
            "text/html": [
              "<div>\n",
              "<style scoped>\n",
              "    .dataframe tbody tr th:only-of-type {\n",
              "        vertical-align: middle;\n",
              "    }\n",
              "\n",
              "    .dataframe tbody tr th {\n",
              "        vertical-align: top;\n",
              "    }\n",
              "\n",
              "    .dataframe thead th {\n",
              "        text-align: right;\n",
              "    }\n",
              "</style>\n",
              "<table border=\"1\" class=\"dataframe\">\n",
              "  <thead>\n",
              "    <tr style=\"text-align: right;\">\n",
              "      <th></th>\n",
              "      <th>id</th>\n",
              "      <th>prices.amountMax</th>\n",
              "      <th>prices.amountMin</th>\n",
              "      <th>prices.availability</th>\n",
              "      <th>prices.condition</th>\n",
              "      <th>prices.currency</th>\n",
              "      <th>prices.isSale</th>\n",
              "      <th>prices.merchant</th>\n",
              "      <th>brand</th>\n",
              "      <th>dateUpdated</th>\n",
              "      <th>Unnamed: 10</th>\n",
              "    </tr>\n",
              "  </thead>\n",
              "  <tbody>\n",
              "    <tr>\n",
              "      <th>0</th>\n",
              "      <td>False</td>\n",
              "      <td>False</td>\n",
              "      <td>False</td>\n",
              "      <td>False</td>\n",
              "      <td>False</td>\n",
              "      <td>False</td>\n",
              "      <td>False</td>\n",
              "      <td>False</td>\n",
              "      <td>False</td>\n",
              "      <td>False</td>\n",
              "      <td>False</td>\n",
              "    </tr>\n",
              "    <tr>\n",
              "      <th>1</th>\n",
              "      <td>False</td>\n",
              "      <td>False</td>\n",
              "      <td>False</td>\n",
              "      <td>False</td>\n",
              "      <td>False</td>\n",
              "      <td>False</td>\n",
              "      <td>False</td>\n",
              "      <td>False</td>\n",
              "      <td>False</td>\n",
              "      <td>False</td>\n",
              "      <td>False</td>\n",
              "    </tr>\n",
              "    <tr>\n",
              "      <th>2</th>\n",
              "      <td>False</td>\n",
              "      <td>False</td>\n",
              "      <td>False</td>\n",
              "      <td>False</td>\n",
              "      <td>False</td>\n",
              "      <td>False</td>\n",
              "      <td>False</td>\n",
              "      <td>False</td>\n",
              "      <td>False</td>\n",
              "      <td>False</td>\n",
              "      <td>False</td>\n",
              "    </tr>\n",
              "    <tr>\n",
              "      <th>3</th>\n",
              "      <td>False</td>\n",
              "      <td>False</td>\n",
              "      <td>False</td>\n",
              "      <td>False</td>\n",
              "      <td>False</td>\n",
              "      <td>False</td>\n",
              "      <td>False</td>\n",
              "      <td>False</td>\n",
              "      <td>False</td>\n",
              "      <td>False</td>\n",
              "      <td>False</td>\n",
              "    </tr>\n",
              "    <tr>\n",
              "      <th>4</th>\n",
              "      <td>False</td>\n",
              "      <td>False</td>\n",
              "      <td>False</td>\n",
              "      <td>False</td>\n",
              "      <td>False</td>\n",
              "      <td>False</td>\n",
              "      <td>False</td>\n",
              "      <td>False</td>\n",
              "      <td>False</td>\n",
              "      <td>False</td>\n",
              "      <td>False</td>\n",
              "    </tr>\n",
              "    <tr>\n",
              "      <th>...</th>\n",
              "      <td>...</td>\n",
              "      <td>...</td>\n",
              "      <td>...</td>\n",
              "      <td>...</td>\n",
              "      <td>...</td>\n",
              "      <td>...</td>\n",
              "      <td>...</td>\n",
              "      <td>...</td>\n",
              "      <td>...</td>\n",
              "      <td>...</td>\n",
              "      <td>...</td>\n",
              "    </tr>\n",
              "    <tr>\n",
              "      <th>14587</th>\n",
              "      <td>False</td>\n",
              "      <td>False</td>\n",
              "      <td>False</td>\n",
              "      <td>True</td>\n",
              "      <td>True</td>\n",
              "      <td>False</td>\n",
              "      <td>False</td>\n",
              "      <td>True</td>\n",
              "      <td>False</td>\n",
              "      <td>False</td>\n",
              "      <td>False</td>\n",
              "    </tr>\n",
              "    <tr>\n",
              "      <th>14588</th>\n",
              "      <td>False</td>\n",
              "      <td>False</td>\n",
              "      <td>False</td>\n",
              "      <td>False</td>\n",
              "      <td>False</td>\n",
              "      <td>False</td>\n",
              "      <td>False</td>\n",
              "      <td>False</td>\n",
              "      <td>False</td>\n",
              "      <td>False</td>\n",
              "      <td>False</td>\n",
              "    </tr>\n",
              "    <tr>\n",
              "      <th>14589</th>\n",
              "      <td>False</td>\n",
              "      <td>False</td>\n",
              "      <td>False</td>\n",
              "      <td>False</td>\n",
              "      <td>False</td>\n",
              "      <td>False</td>\n",
              "      <td>False</td>\n",
              "      <td>False</td>\n",
              "      <td>False</td>\n",
              "      <td>False</td>\n",
              "      <td>False</td>\n",
              "    </tr>\n",
              "    <tr>\n",
              "      <th>14590</th>\n",
              "      <td>False</td>\n",
              "      <td>False</td>\n",
              "      <td>False</td>\n",
              "      <td>True</td>\n",
              "      <td>True</td>\n",
              "      <td>False</td>\n",
              "      <td>False</td>\n",
              "      <td>True</td>\n",
              "      <td>False</td>\n",
              "      <td>False</td>\n",
              "      <td>False</td>\n",
              "    </tr>\n",
              "    <tr>\n",
              "      <th>14591</th>\n",
              "      <td>False</td>\n",
              "      <td>False</td>\n",
              "      <td>False</td>\n",
              "      <td>True</td>\n",
              "      <td>False</td>\n",
              "      <td>False</td>\n",
              "      <td>False</td>\n",
              "      <td>False</td>\n",
              "      <td>False</td>\n",
              "      <td>False</td>\n",
              "      <td>False</td>\n",
              "    </tr>\n",
              "  </tbody>\n",
              "</table>\n",
              "<p>14592 rows × 11 columns</p>\n",
              "</div>"
            ],
            "text/plain": [
              "          id  prices.amountMax  ...  dateUpdated  Unnamed: 10\n",
              "0      False             False  ...        False        False\n",
              "1      False             False  ...        False        False\n",
              "2      False             False  ...        False        False\n",
              "3      False             False  ...        False        False\n",
              "4      False             False  ...        False        False\n",
              "...      ...               ...  ...          ...          ...\n",
              "14587  False             False  ...        False        False\n",
              "14588  False             False  ...        False        False\n",
              "14589  False             False  ...        False        False\n",
              "14590  False             False  ...        False        False\n",
              "14591  False             False  ...        False        False\n",
              "\n",
              "[14592 rows x 11 columns]"
            ]
          },
          "metadata": {
            "tags": []
          },
          "execution_count": 24
        }
      ]
    },
    {
      "cell_type": "code",
      "metadata": {
        "id": "gy0nIstqJN2N",
        "colab_type": "code",
        "colab": {
          "base_uri": "https://localhost:8080/",
          "height": 635
        },
        "outputId": "18ecd801-c07e-4ea6-ec77-33f3e0c06490"
      },
      "source": [
        "x.fillna(method='bfill')"
      ],
      "execution_count": 43,
      "outputs": [
        {
          "output_type": "execute_result",
          "data": {
            "text/html": [
              "<div>\n",
              "<style scoped>\n",
              "    .dataframe tbody tr th:only-of-type {\n",
              "        vertical-align: middle;\n",
              "    }\n",
              "\n",
              "    .dataframe tbody tr th {\n",
              "        vertical-align: top;\n",
              "    }\n",
              "\n",
              "    .dataframe thead th {\n",
              "        text-align: right;\n",
              "    }\n",
              "</style>\n",
              "<table border=\"1\" class=\"dataframe\">\n",
              "  <thead>\n",
              "    <tr style=\"text-align: right;\">\n",
              "      <th></th>\n",
              "      <th>id</th>\n",
              "      <th>prices.amountMax</th>\n",
              "      <th>prices.amountMin</th>\n",
              "      <th>prices.availability</th>\n",
              "      <th>prices.condition</th>\n",
              "      <th>prices.currency</th>\n",
              "      <th>prices.isSale</th>\n",
              "      <th>prices.merchant</th>\n",
              "      <th>brand</th>\n",
              "      <th>dateUpdated</th>\n",
              "      <th>Unnamed: 10</th>\n",
              "    </tr>\n",
              "  </thead>\n",
              "  <tbody>\n",
              "    <tr>\n",
              "      <th>0</th>\n",
              "      <td>AVphzgbJLJeJML43fA0o</td>\n",
              "      <td>104.99</td>\n",
              "      <td>104.99</td>\n",
              "      <td>Yes</td>\n",
              "      <td>New</td>\n",
              "      <td>USD</td>\n",
              "      <td>False</td>\n",
              "      <td>Bestbuy.com</td>\n",
              "      <td>Sanus</td>\n",
              "      <td>2018-05-12T18:59:48Z</td>\n",
              "      <td>32.8 pounds</td>\n",
              "    </tr>\n",
              "    <tr>\n",
              "      <th>1</th>\n",
              "      <td>AVpgMuGwLJeJML43KY_c</td>\n",
              "      <td>69.00</td>\n",
              "      <td>64.99</td>\n",
              "      <td>In Stock</td>\n",
              "      <td>New</td>\n",
              "      <td>USD</td>\n",
              "      <td>True</td>\n",
              "      <td>Walmart.com</td>\n",
              "      <td>Boytone</td>\n",
              "      <td>2018-06-13T19:39:02Z</td>\n",
              "      <td>14 pounds</td>\n",
              "    </tr>\n",
              "    <tr>\n",
              "      <th>2</th>\n",
              "      <td>AVpgMuGwLJeJML43KY_c</td>\n",
              "      <td>69.00</td>\n",
              "      <td>69.00</td>\n",
              "      <td>In Stock</td>\n",
              "      <td>New</td>\n",
              "      <td>USD</td>\n",
              "      <td>False</td>\n",
              "      <td>Walmart.com</td>\n",
              "      <td>Boytone</td>\n",
              "      <td>2018-06-13T19:39:02Z</td>\n",
              "      <td>14 pounds</td>\n",
              "    </tr>\n",
              "    <tr>\n",
              "      <th>3</th>\n",
              "      <td>AVpgMuGwLJeJML43KY_c</td>\n",
              "      <td>69.99</td>\n",
              "      <td>69.99</td>\n",
              "      <td>Yes</td>\n",
              "      <td>New</td>\n",
              "      <td>USD</td>\n",
              "      <td>False</td>\n",
              "      <td>Bestbuy.com</td>\n",
              "      <td>Boytone</td>\n",
              "      <td>2018-06-13T19:39:02Z</td>\n",
              "      <td>14 pounds</td>\n",
              "    </tr>\n",
              "    <tr>\n",
              "      <th>4</th>\n",
              "      <td>AVpgMuGwLJeJML43KY_c</td>\n",
              "      <td>66.99</td>\n",
              "      <td>66.99</td>\n",
              "      <td>Yes</td>\n",
              "      <td>New</td>\n",
              "      <td>USD</td>\n",
              "      <td>False</td>\n",
              "      <td>Bestbuy.com</td>\n",
              "      <td>Boytone</td>\n",
              "      <td>2018-06-13T19:39:02Z</td>\n",
              "      <td>14 pounds</td>\n",
              "    </tr>\n",
              "    <tr>\n",
              "      <th>...</th>\n",
              "      <td>...</td>\n",
              "      <td>...</td>\n",
              "      <td>...</td>\n",
              "      <td>...</td>\n",
              "      <td>...</td>\n",
              "      <td>...</td>\n",
              "      <td>...</td>\n",
              "      <td>...</td>\n",
              "      <td>...</td>\n",
              "      <td>...</td>\n",
              "      <td>...</td>\n",
              "    </tr>\n",
              "    <tr>\n",
              "      <th>14587</th>\n",
              "      <td>AVpgibRDLJeJML43PTZX</td>\n",
              "      <td>65.99</td>\n",
              "      <td>65.99</td>\n",
              "      <td>Yes</td>\n",
              "      <td>New</td>\n",
              "      <td>USD</td>\n",
              "      <td>True</td>\n",
              "      <td>Bestbuy.com</td>\n",
              "      <td>naxa</td>\n",
              "      <td>2018-06-13T19:43:55Z</td>\n",
              "      <td>4.1 pounds</td>\n",
              "    </tr>\n",
              "    <tr>\n",
              "      <th>14588</th>\n",
              "      <td>AVpgibRDLJeJML43PTZX</td>\n",
              "      <td>58.99</td>\n",
              "      <td>58.99</td>\n",
              "      <td>Yes</td>\n",
              "      <td>New</td>\n",
              "      <td>USD</td>\n",
              "      <td>False</td>\n",
              "      <td>Bestbuy.com</td>\n",
              "      <td>naxa</td>\n",
              "      <td>2018-06-13T19:43:55Z</td>\n",
              "      <td>4.1 pounds</td>\n",
              "    </tr>\n",
              "    <tr>\n",
              "      <th>14589</th>\n",
              "      <td>AVpgibRDLJeJML43PTZX</td>\n",
              "      <td>58.49</td>\n",
              "      <td>58.49</td>\n",
              "      <td>In Stock</td>\n",
              "      <td>New</td>\n",
              "      <td>USD</td>\n",
              "      <td>False</td>\n",
              "      <td>Walmart.com</td>\n",
              "      <td>naxa</td>\n",
              "      <td>2018-06-13T19:43:55Z</td>\n",
              "      <td>4.1 pounds</td>\n",
              "    </tr>\n",
              "    <tr>\n",
              "      <th>14590</th>\n",
              "      <td>AVpgibRDLJeJML43PTZX</td>\n",
              "      <td>77.98</td>\n",
              "      <td>77.98</td>\n",
              "      <td>NaN</td>\n",
              "      <td>new</td>\n",
              "      <td>USD</td>\n",
              "      <td>True</td>\n",
              "      <td>Beach Audio Inc - Walmart.com</td>\n",
              "      <td>naxa</td>\n",
              "      <td>2018-06-13T19:43:55Z</td>\n",
              "      <td>4.1 pounds</td>\n",
              "    </tr>\n",
              "    <tr>\n",
              "      <th>14591</th>\n",
              "      <td>AVpgibRDLJeJML43PTZX</td>\n",
              "      <td>71.95</td>\n",
              "      <td>71.95</td>\n",
              "      <td>NaN</td>\n",
              "      <td>new</td>\n",
              "      <td>USD</td>\n",
              "      <td>False</td>\n",
              "      <td>Beach Audio Inc - Walmart.com</td>\n",
              "      <td>naxa</td>\n",
              "      <td>2018-06-13T19:43:55Z</td>\n",
              "      <td>4.1 pounds</td>\n",
              "    </tr>\n",
              "  </tbody>\n",
              "</table>\n",
              "<p>14592 rows × 11 columns</p>\n",
              "</div>"
            ],
            "text/plain": [
              "                         id  ...  Unnamed: 10\n",
              "0      AVphzgbJLJeJML43fA0o  ...  32.8 pounds\n",
              "1      AVpgMuGwLJeJML43KY_c  ...    14 pounds\n",
              "2      AVpgMuGwLJeJML43KY_c  ...    14 pounds\n",
              "3      AVpgMuGwLJeJML43KY_c  ...    14 pounds\n",
              "4      AVpgMuGwLJeJML43KY_c  ...    14 pounds\n",
              "...                     ...  ...          ...\n",
              "14587  AVpgibRDLJeJML43PTZX  ...   4.1 pounds\n",
              "14588  AVpgibRDLJeJML43PTZX  ...   4.1 pounds\n",
              "14589  AVpgibRDLJeJML43PTZX  ...   4.1 pounds\n",
              "14590  AVpgibRDLJeJML43PTZX  ...   4.1 pounds\n",
              "14591  AVpgibRDLJeJML43PTZX  ...   4.1 pounds\n",
              "\n",
              "[14592 rows x 11 columns]"
            ]
          },
          "metadata": {
            "tags": []
          },
          "execution_count": 43
        }
      ]
    },
    {
      "cell_type": "markdown",
      "metadata": {
        "id": "6Sn33U6aNSVT",
        "colab_type": "text"
      },
      "source": [
        "# scatter plot between max prices and brand"
      ]
    },
    {
      "cell_type": "code",
      "metadata": {
        "id": "OlAFU3EVCXzo",
        "colab_type": "code",
        "colab": {
          "base_uri": "https://localhost:8080/",
          "height": 279
        },
        "outputId": "8199a180-dd7b-418e-ae0e-814328ac9b9c"
      },
      "source": [
        "plt.scatter(x['prices.amountMax'],x['brand'],color=\"red\")\n",
        "plt.xlabel('brand')\n",
        "plt.ylabel('prices.amountMax')\n",
        "plt.show()"
      ],
      "execution_count": 44,
      "outputs": [
        {
          "output_type": "display_data",
          "data": {
            "image/png": "[encoded data removed]",
            "text/plain": [
              "<Figure size 432x288 with 1 Axes>"
            ]
          },
          "metadata": {
            "tags": []
          }
        }
      ]
    },
    {
      "cell_type": "markdown",
      "metadata": {
        "id": "Bm82DThDNg2C",
        "colab_type": "text"
      },
      "source": [
        "# Histogram between Max price and Brand"
      ]
    },
    {
      "cell_type": "code",
      "metadata": {
        "id": "lvT8Gh1lIhgS",
        "colab_type": "code",
        "colab": {
          "base_uri": "https://localhost:8080/",
          "height": 279
        },
        "outputId": "b05565bd-6abb-4d9d-a0bd-2619190b9f14"
      },
      "source": [
        "plt.hist(x['prices.amountMax'],color=\"blue\",bins=5)\n",
        "plt.xlabel('brand')\n",
        "plt.ylabel('prices.amountMax')\n",
        "plt.show()"
      ],
      "execution_count": 45,
      "outputs": [
        {
          "output_type": "display_data",
          "data": {
            "image/png": "[encoded data removed]",
            "text/plain": [
              "<Figure size 432x288 with 1 Axes>"
            ]
          },
          "metadata": {
            "tags": []
          }
        }
      ]
    },
    {
      "cell_type": "code",
      "metadata": {
        "id": "JtJ7IzqaI50x",
        "colab_type": "code",
        "colab": {}
      },
      "source": [
        ""
      ],
      "execution_count": 0,
      "outputs": []
    },
    {
      "cell_type": "markdown",
      "metadata": {
        "id": "lbP5CLM6N8sZ",
        "colab_type": "text"
      },
      "source": [
        "**what is the maximum price of the products?**\n",
        "**which brand occured more times**\n",
        "\n",
        "\n",
        "* \n",
        "*   List item\n",
        "\n"
      ]
    },
    {
      "cell_type": "markdown",
      "metadata": {
        "id": "u_i6hRQwPhav",
        "colab_type": "text"
      },
      "source": [
        ""
      ]
    }
  ]
}